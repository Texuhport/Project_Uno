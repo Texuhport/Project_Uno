{
 "cells": [
  {
   "cell_type": "code",
   "execution_count": 5,
   "id": "bef83dc3-fbae-4ce3-8e04-db21bf1b09c1",
   "metadata": {
    "tags": []
   },
   "outputs": [
    {
     "name": "stderr",
     "output_type": "stream",
     "text": [
      "C:\\Users\\MK\\AppData\\Local\\Temp\\ipykernel_17464\\3321074973.py:40: UserWarning: Boolean Series key will be reindexed to match DataFrame index.\n",
      "  filtered_averages = averages[filtered_averages['Volatility'] >= 2]\n"
     ]
    },
    {
     "ename": "IndexingError",
     "evalue": "Unalignable boolean Series provided as indexer (index of the boolean Series and of the indexed object do not match).",
     "output_type": "error",
     "traceback": [
      "\u001b[1;31m---------------------------------------------------------------------------\u001b[0m",
      "\u001b[1;31mIndexingError\u001b[0m                             Traceback (most recent call last)",
      "Cell \u001b[1;32mIn[5], line 40\u001b[0m\n\u001b[0;32m     37\u001b[0m averages\u001b[38;5;241m.\u001b[39mrename(columns\u001b[38;5;241m=\u001b[39m{\u001b[38;5;124m'\u001b[39m\u001b[38;5;124mDaily_Return\u001b[39m\u001b[38;5;124m'\u001b[39m: \u001b[38;5;124m'\u001b[39m\u001b[38;5;124mAVG ROI\u001b[39m\u001b[38;5;124m'\u001b[39m}, inplace\u001b[38;5;241m=\u001b[39m\u001b[38;5;28;01mTrue\u001b[39;00m)\n\u001b[0;32m     39\u001b[0m \u001b[38;5;66;03m# Filter the filtered_averages DataFrame to keep only companies with average volatility >= 2\u001b[39;00m\n\u001b[1;32m---> 40\u001b[0m filtered_averages \u001b[38;5;241m=\u001b[39m \u001b[43maverages\u001b[49m\u001b[43m[\u001b[49m\u001b[43mfiltered_averages\u001b[49m\u001b[43m[\u001b[49m\u001b[38;5;124;43m'\u001b[39;49m\u001b[38;5;124;43mVolatility\u001b[39;49m\u001b[38;5;124;43m'\u001b[39;49m\u001b[43m]\u001b[49m\u001b[43m \u001b[49m\u001b[38;5;241;43m>\u001b[39;49m\u001b[38;5;241;43m=\u001b[39;49m\u001b[43m \u001b[49m\u001b[38;5;241;43m2\u001b[39;49m\u001b[43m]\u001b[49m\n\u001b[0;32m     42\u001b[0m \u001b[38;5;66;03m# Filter the averages DataFrame to keep only companies with a daily return average >= 0.15\u001b[39;00m\n\u001b[0;32m     43\u001b[0m filtered_averages \u001b[38;5;241m=\u001b[39m filtered_averages[averages[\u001b[38;5;124m'\u001b[39m\u001b[38;5;124mAVG ROI\u001b[39m\u001b[38;5;124m'\u001b[39m] \u001b[38;5;241m>\u001b[39m\u001b[38;5;241m=\u001b[39m \u001b[38;5;241m0.08\u001b[39m]\n",
      "File \u001b[1;32m~\\anaconda3\\envs\\dev\\lib\\site-packages\\pandas\\core\\frame.py:3798\u001b[0m, in \u001b[0;36mDataFrame.__getitem__\u001b[1;34m(self, key)\u001b[0m\n\u001b[0;32m   3796\u001b[0m \u001b[38;5;66;03m# Do we have a (boolean) 1d indexer?\u001b[39;00m\n\u001b[0;32m   3797\u001b[0m \u001b[38;5;28;01mif\u001b[39;00m com\u001b[38;5;241m.\u001b[39mis_bool_indexer(key):\n\u001b[1;32m-> 3798\u001b[0m     \u001b[38;5;28;01mreturn\u001b[39;00m \u001b[38;5;28;43mself\u001b[39;49m\u001b[38;5;241;43m.\u001b[39;49m\u001b[43m_getitem_bool_array\u001b[49m\u001b[43m(\u001b[49m\u001b[43mkey\u001b[49m\u001b[43m)\u001b[49m\n\u001b[0;32m   3800\u001b[0m \u001b[38;5;66;03m# We are left with two options: a single key, and a collection of keys,\u001b[39;00m\n\u001b[0;32m   3801\u001b[0m \u001b[38;5;66;03m# We interpret tuples as collections only for non-MultiIndex\u001b[39;00m\n\u001b[0;32m   3802\u001b[0m is_single_key \u001b[38;5;241m=\u001b[39m \u001b[38;5;28misinstance\u001b[39m(key, \u001b[38;5;28mtuple\u001b[39m) \u001b[38;5;129;01mor\u001b[39;00m \u001b[38;5;129;01mnot\u001b[39;00m is_list_like(key)\n",
      "File \u001b[1;32m~\\anaconda3\\envs\\dev\\lib\\site-packages\\pandas\\core\\frame.py:3851\u001b[0m, in \u001b[0;36mDataFrame._getitem_bool_array\u001b[1;34m(self, key)\u001b[0m\n\u001b[0;32m   3845\u001b[0m     \u001b[38;5;28;01mraise\u001b[39;00m \u001b[38;5;167;01mValueError\u001b[39;00m(\n\u001b[0;32m   3846\u001b[0m         \u001b[38;5;124mf\u001b[39m\u001b[38;5;124m\"\u001b[39m\u001b[38;5;124mItem wrong length \u001b[39m\u001b[38;5;132;01m{\u001b[39;00m\u001b[38;5;28mlen\u001b[39m(key)\u001b[38;5;132;01m}\u001b[39;00m\u001b[38;5;124m instead of \u001b[39m\u001b[38;5;132;01m{\u001b[39;00m\u001b[38;5;28mlen\u001b[39m(\u001b[38;5;28mself\u001b[39m\u001b[38;5;241m.\u001b[39mindex)\u001b[38;5;132;01m}\u001b[39;00m\u001b[38;5;124m.\u001b[39m\u001b[38;5;124m\"\u001b[39m\n\u001b[0;32m   3847\u001b[0m     )\n\u001b[0;32m   3849\u001b[0m \u001b[38;5;66;03m# check_bool_indexer will throw exception if Series key cannot\u001b[39;00m\n\u001b[0;32m   3850\u001b[0m \u001b[38;5;66;03m# be reindexed to match DataFrame rows\u001b[39;00m\n\u001b[1;32m-> 3851\u001b[0m key \u001b[38;5;241m=\u001b[39m \u001b[43mcheck_bool_indexer\u001b[49m\u001b[43m(\u001b[49m\u001b[38;5;28;43mself\u001b[39;49m\u001b[38;5;241;43m.\u001b[39;49m\u001b[43mindex\u001b[49m\u001b[43m,\u001b[49m\u001b[43m \u001b[49m\u001b[43mkey\u001b[49m\u001b[43m)\u001b[49m\n\u001b[0;32m   3852\u001b[0m indexer \u001b[38;5;241m=\u001b[39m key\u001b[38;5;241m.\u001b[39mnonzero()[\u001b[38;5;241m0\u001b[39m]\n\u001b[0;32m   3853\u001b[0m \u001b[38;5;28;01mreturn\u001b[39;00m \u001b[38;5;28mself\u001b[39m\u001b[38;5;241m.\u001b[39m_take_with_is_copy(indexer, axis\u001b[38;5;241m=\u001b[39m\u001b[38;5;241m0\u001b[39m)\n",
      "File \u001b[1;32m~\\anaconda3\\envs\\dev\\lib\\site-packages\\pandas\\core\\indexing.py:2552\u001b[0m, in \u001b[0;36mcheck_bool_indexer\u001b[1;34m(index, key)\u001b[0m\n\u001b[0;32m   2550\u001b[0m indexer \u001b[38;5;241m=\u001b[39m result\u001b[38;5;241m.\u001b[39mindex\u001b[38;5;241m.\u001b[39mget_indexer_for(index)\n\u001b[0;32m   2551\u001b[0m \u001b[38;5;28;01mif\u001b[39;00m \u001b[38;5;241m-\u001b[39m\u001b[38;5;241m1\u001b[39m \u001b[38;5;129;01min\u001b[39;00m indexer:\n\u001b[1;32m-> 2552\u001b[0m     \u001b[38;5;28;01mraise\u001b[39;00m IndexingError(\n\u001b[0;32m   2553\u001b[0m         \u001b[38;5;124m\"\u001b[39m\u001b[38;5;124mUnalignable boolean Series provided as \u001b[39m\u001b[38;5;124m\"\u001b[39m\n\u001b[0;32m   2554\u001b[0m         \u001b[38;5;124m\"\u001b[39m\u001b[38;5;124mindexer (index of the boolean Series and of \u001b[39m\u001b[38;5;124m\"\u001b[39m\n\u001b[0;32m   2555\u001b[0m         \u001b[38;5;124m\"\u001b[39m\u001b[38;5;124mthe indexed object do not match).\u001b[39m\u001b[38;5;124m\"\u001b[39m\n\u001b[0;32m   2556\u001b[0m     )\n\u001b[0;32m   2558\u001b[0m result \u001b[38;5;241m=\u001b[39m result\u001b[38;5;241m.\u001b[39mtake(indexer)\n\u001b[0;32m   2560\u001b[0m \u001b[38;5;66;03m# fall through for boolean\u001b[39;00m\n",
      "\u001b[1;31mIndexingError\u001b[0m: Unalignable boolean Series provided as indexer (index of the boolean Series and of the indexed object do not match)."
     ]
    }
   ],
   "source": [
    "import pandas as pd\n",
    "from datetime import datetime, timedelta\n",
    "\n",
    "# Load the CSV file into a pandas DataFrame\n",
    "df = pd.read_csv(r'C:\\Users\\MK\\Desktop\\Project_Uno\\Database\\World Stock Prices (Daily Updating)\\World Stock Prices Dataset.csv')\n",
    "\n",
    "# Specify the date format of your 'Date' column\n",
    "date_format = '%Y-%m-%d %H:%M:%S%z'  # Adjust this format to match your data\n",
    "\n",
    "# Convert the 'Date' column to datetime format with the specified date format\n",
    "df['Date'] = pd.to_datetime(df['Date'], format=date_format)\n",
    "\n",
    "# Make the cutoff date offset-aware by specifying the timezone\n",
    "cutoff_date = datetime(2023, 9, 20) - timedelta(days=365 * 2)\n",
    "cutoff_date = cutoff_date.replace(tzinfo=df['Date'].iloc[0].tzinfo)  # Use the timezone from the DataFrame\n",
    "\n",
    "# Filter the DataFrame to keep only the date-times on or after the cutoff date\n",
    "filtered_df = df[df['Date'] >= cutoff_date].copy()  # Create a copy to avoid SettingWithCopyWarning\n",
    "\n",
    "# Calculate daily returns using the Open and Close columns\n",
    "filtered_df.loc[:, 'Daily_Return'] = ((filtered_df['Close'] - filtered_df['Open']) / filtered_df['Open']) * 100\n",
    "\n",
    "# Calculate Volatility as the percentage difference between Open and High\n",
    "filtered_df.loc[:, 'Volatility'] = ((filtered_df['High'] - filtered_df['Low']) / filtered_df['Low']) * 100\n",
    "\n",
    "# Check if columns need conversion to numeric\n",
    "if filtered_df['Daily_Return'].dtype == 'object':\n",
    "    filtered_df['Daily_Return'] = filtered_df['Daily_Return'].str.rstrip('%').astype(float)\n",
    "\n",
    "if filtered_df['Volatility'].dtype == 'object':\n",
    "    filtered_df['Volatility'] = filtered_df['Volatility'].str.rstrip('%').astype(float)\n",
    "\n",
    "# Calculate the mean of 'Daily_Return' and 'Volatility' for each 'Brand_Name'\n",
    "averages = filtered_df.groupby('Brand_Name', as_index=False)[['Daily_Return', 'Volatility']].mean()\n",
    "\n",
    "# Rename the 'Daily_Return' column to 'AVG ROI'\n",
    "averages.rename(columns={'Daily_Return': 'AVG ROI'}, inplace=True)\n",
    "\n",
    "# Filter the averages DataFrame to keep only companies with a daily return average >= 0.15\n",
    "filtered_averages = filtered_averages[averages['AVG ROI'] >= 0.08]\n",
    "\n",
    "# Filter the filtered_averages DataFrame to keep only companies with average volatility >= 2\n",
    "filtered_averages = averages[filtered_averages['Volatility'] >= 2]\n",
    "\n",
    "# Sort the filtered_averages DataFrame by 'AVG ROI' in descending order\n",
    "filtered_averages = filtered_averages.sort_values(by='AVG ROI', ascending=False).reset_index(drop=True)\n",
    "\n",
    "# Round the 'AVG ROI' and 'Volatility' columns to two decimal places\n",
    "filtered_averages['AVG ROI'] = filtered_averages['AVG ROI'].round(2)\n",
    "filtered_averages['Volatility'] = filtered_averages['Volatility'].round(2)\n",
    "\n",
    "# Display the resulting DataFrame\n",
    "print(filtered_averages)\n",
    "\n",
    "# Save the cleaned data to a new CSV file\n",
    "filtered_averages.to_csv('high-risk-strategy-database.csv', index=False)\n"
   ]
  },
  {
   "cell_type": "code",
   "execution_count": null,
   "id": "67e35fd8-a126-4ea4-86f3-a3eca1db9258",
   "metadata": {},
   "outputs": [],
   "source": []
  }
 ],
 "metadata": {
  "kernelspec": {
   "display_name": "Python 3 (ipykernel)",
   "language": "python",
   "name": "python3"
  },
  "language_info": {
   "codemirror_mode": {
    "name": "ipython",
    "version": 3
   },
   "file_extension": ".py",
   "mimetype": "text/x-python",
   "name": "python",
   "nbconvert_exporter": "python",
   "pygments_lexer": "ipython3",
   "version": "3.10.12"
  }
 },
 "nbformat": 4,
 "nbformat_minor": 5
}

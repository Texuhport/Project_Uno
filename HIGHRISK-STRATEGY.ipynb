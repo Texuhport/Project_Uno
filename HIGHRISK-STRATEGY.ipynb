{
 "cells": [
  {
   "cell_type": "code",
   "execution_count": 1,
   "id": "bef83dc3-fbae-4ce3-8e04-db21bf1b09c1",
   "metadata": {
    "tags": []
   },
   "outputs": [
    {
     "name": "stdout",
     "output_type": "stream",
     "text": [
      "    Brand_Name  AVG ROI  Volatility\n",
      "13    coinbase     0.22        8.25\n",
      "3       airbnb     0.18        4.30\n",
      "36      nvidia     0.15        4.50\n",
      "8        apple     0.13        2.33\n",
      "55        uber     0.11        4.38\n",
      "29  mastercard     0.10        2.32\n",
      "26    logitech     0.10        2.30\n",
      "18       fedex     0.09        2.44\n",
      "43      roblox     0.09        6.71\n"
     ]
    }
   ],
   "source": [
    "import pandas as pd\n",
    "from datetime import datetime, timedelta\n",
    "\n",
    "# Load the CSV file into a pandas DataFrame\n",
    "df = pd.read_csv(r'C:\\Users\\MK\\Desktop\\Project_Uno\\Database\\World Stock Prices (Daily Updating)\\World Stock Prices Dataset.csv')\n",
    "\n",
    "# Specify the date format of your 'Date' column\n",
    "date_format = '%Y-%m-%d %H:%M:%S%z'  # Adjust this format to match your data\n",
    "\n",
    "# Convert the 'Date' column to datetime format with the specified date format\n",
    "df['Date'] = pd.to_datetime(df['Date'], format=date_format)\n",
    "\n",
    "# Make the cutoff date offset-aware by specifying the timezone\n",
    "cutoff_date = datetime(2023, 9, 20) - timedelta(days=365 * 2)\n",
    "cutoff_date = cutoff_date.replace(tzinfo=df['Date'].iloc[0].tzinfo)  # Use the timezone from the DataFrame\n",
    "\n",
    "# Filter the DataFrame to keep only the date-times on or after the cutoff date\n",
    "filtered_df = df[df['Date'] >= cutoff_date].copy()  # Create a copy to avoid SettingWithCopyWarning\n",
    "\n",
    "# Calculate daily returns using the Open and Close columns\n",
    "filtered_df.loc[:, 'Daily_Return'] = ((filtered_df['Close'] - filtered_df['Open']) / filtered_df['Open']) * 100\n",
    "\n",
    "# Calculate Volatility as the percentage difference between Open and High\n",
    "filtered_df.loc[:, 'Volatility'] = ((filtered_df['High'] - filtered_df['Low']) / filtered_df['Low']) * 100\n",
    "\n",
    "# Check if columns need conversion to numeric\n",
    "if filtered_df['Daily_Return'].dtype == 'object':\n",
    "    filtered_df['Daily_Return'] = filtered_df['Daily_Return'].str.rstrip('%').astype(float)\n",
    "\n",
    "if filtered_df['Volatility'].dtype == 'object':\n",
    "    filtered_df['Volatility'] = filtered_df['Volatility'].str.rstrip('%').astype(float)\n",
    "\n",
    "# Calculate the mean of 'Daily_Return' and 'Volatility' for each 'Brand_Name'\n",
    "averages = filtered_df.groupby('Brand_Name', as_index=False)[['Daily_Return', 'Volatility']].mean()\n",
    "\n",
    "# Rename the 'Daily_Return' column to 'AVG ROI'\n",
    "averages.rename(columns={'Daily_Return': 'AVG ROI'}, inplace=True)\n",
    "\n",
    "# Filter the averages DataFrame to keep only companies with a daily return average >= 0.15\n",
    "filtered_averages = averages[averages['AVG ROI'] >= 0.08]\n",
    "\n",
    "# Filter the filtered_averages DataFrame to keep only companies with average volatility >= 2\n",
    "filtered_averages = filtered_averages[filtered_averages['Volatility'] >= 2]\n",
    "\n",
    "# Sort the filtered_averages DataFrame by 'AVG ROI' in descending order\n",
    "filtered_averages = filtered_averages.sort_values(by='AVG ROI', ascending=False)\n",
    "\n",
    "# Round the 'AVG ROI' and 'Volatility' columns to two decimal places\n",
    "filtered_averages['AVG ROI'] = filtered_averages['AVG ROI'].round(2)\n",
    "filtered_averages['Volatility'] = filtered_averages['Volatility'].round(2)\n",
    "\n",
    "# Display the resulting DataFrame\n",
    "print(filtered_averages)\n",
    "\n",
    "# Save the cleaned data to a new CSV file\n",
    "filtered_averages.to_csv('high-risk-strategy-database.csv', index=False)\n"
   ]
  },
  {
   "cell_type": "code",
   "execution_count": null,
   "id": "67e35fd8-a126-4ea4-86f3-a3eca1db9258",
   "metadata": {},
   "outputs": [],
   "source": []
  }
 ],
 "metadata": {
  "kernelspec": {
   "display_name": "Python 3 (ipykernel)",
   "language": "python",
   "name": "python3"
  },
  "language_info": {
   "codemirror_mode": {
    "name": "ipython",
    "version": 3
   },
   "file_extension": ".py",
   "mimetype": "text/x-python",
   "name": "python",
   "nbconvert_exporter": "python",
   "pygments_lexer": "ipython3",
   "version": "3.10.12"
  }
 },
 "nbformat": 4,
 "nbformat_minor": 5
}
